{
 "cells": [
  {
   "cell_type": "markdown",
   "metadata": {},
   "source": [
    "# Measures of Central Tendency - Quiz\n",
    "\n",
    "## Objectives\n",
    "You will be able to:\n",
    "* Understand and describe the significance of measuring central tendency of continuous data\n",
    "* Understand the formula and intuition behind the mean, median, mode and modal class\n",
    "* Compare mean-median-mode, along with histograms to explain the central tendency of given data"
   ]
  },
  {
   "cell_type": "markdown",
   "metadata": {},
   "source": [
    "**Note, for these exercises, you do not need to write code to answer them - we'll do that later. Just do them by hand or with a calculator to make sure you're comfortable with the process of calculating the answers!**\n",
    "\n",
    "### Exercise 1\n",
    "Calculate the mean, median and mode for this data set: \n",
    "```\n",
    "19, 18, 21, 16, 15, 17, 20, 18\n",
    "```\n",
    "While comparing the results of three measures, comment about this distribution. "
   ]
  },
  {
   "cell_type": "code",
   "execution_count": 17,
   "metadata": {},
   "outputs": [
    {
     "name": "stdout",
     "output_type": "stream",
     "text": [
      "[15, 16, 17, 18, 18, 19, 20, 21]\n",
      "mean is 18.0\n",
      "median is 18\n",
      "mode is 18\n"
     ]
    }
   ],
   "source": [
    "# Your answer here\n",
    "dataset = [19, 18, 21, 16, 15, 17, 20, 18]\n",
    "type(dataset)\n",
    "dataset.sort()\n",
    "print(dataset)\n",
    "mean = sum(dataset)/len(dataset)\n",
    "print(\"mean is \" + str(mean))\n",
    "print(\"median is 18\")\n",
    "print(\"mode is 18\")\n",
    "#This is a symmetric distribution"
   ]
  },
  {
   "cell_type": "markdown",
   "metadata": {},
   "source": [
    "### Exercise 2\n",
    "\n",
    "Calculate the mean, median and mode for given distribution and state which of these measures does not describe the \"middle\" of this data set? and why ?\n",
    "```\n",
    "100, 99, 97, 97, 96, 98, 95, 72\n",
    "```"
   ]
  },
  {
   "cell_type": "code",
   "execution_count": 20,
   "metadata": {},
   "outputs": [
    {
     "name": "stdout",
     "output_type": "stream",
     "text": [
      "[72, 95, 96, 97, 97, 98, 99, 100]\n",
      "mean is 94.25\n",
      "median is 97\n",
      "mode is 97\n",
      "mean is the measure that does not describe the middle of the dataset, because of the low 72 value which skews data\n"
     ]
    }
   ],
   "source": [
    "# Your answer here \n",
    "# Your answer here\n",
    "dataset = [100, 99, 97, 97, 96, 98, 95, 72]\n",
    "type(dataset)\n",
    "dataset.sort()\n",
    "print(dataset)\n",
    "mean = sum(dataset)/len(dataset)\n",
    "print(\"mean is \" + str(mean))\n",
    "print(\"median is 97\")\n",
    "print(\"mode is 97\")\n",
    "print(\"mean is the measure that does not describe the middle of the dataset, because of the low 72 value which skews data\")"
   ]
  },
  {
   "cell_type": "markdown",
   "metadata": {},
   "source": [
    "### Exercise 3\n",
    "On the first three days of his bookshop opening, Joe sold 15, 18, and 16 books (He initially hoped that he would sell 17 books every day).  How many books does he need to sell on the next day to have a mean sale of 17?"
   ]
  },
  {
   "cell_type": "code",
   "execution_count": 22,
   "metadata": {},
   "outputs": [
    {
     "name": "stdout",
     "output_type": "stream",
     "text": [
      "[15, 16, 18]\n",
      "he would need to sell 19 books\n"
     ]
    }
   ],
   "source": [
    "# Your answer here \n",
    "dataset = [15, 18, 16]\n",
    "dataset.sort()\n",
    "print(dataset)\n",
    "mean = sum(dataset)/len(dataset)\n",
    "# 17 = (15 + 18 + 16 + x)/4\n",
    "x = 4*17 - 15 - 18 - 16\n",
    "print(f\"he would need to sell {x} books\")\n"
   ]
  },
  {
   "cell_type": "markdown",
   "metadata": {},
   "source": [
    "### Exercise 4\n",
    "The histograms show the amount of time (hours per day) spent on Facebook by 46 middle school girls and 40 middle school boys from a school in San Francisco. A total of 50 boys and 50 girls took the survey, 4 girls and 10 boys did not use Facebook at all. \n",
    "Each is graphed with a bin width of 0.25 hours.\n",
    "\n",
    "![](boys.png)\n",
    "![](girls.png)\n",
    "\n",
    "Looking at these histograms, answer following questions. \n",
    "\n",
    "*Hint: For most parts, you will have to figure out the location of required bins and count the frequencies. *\n",
    "\n",
    "#### How many boys spend more than 1.5 hours/day on Facebook?\n"
   ]
  },
  {
   "cell_type": "code",
   "execution_count": 9,
   "metadata": {},
   "outputs": [],
   "source": [
    "# Your answer here \n",
    "# 8\n"
   ]
  },
  {
   "cell_type": "markdown",
   "metadata": {},
   "source": [
    "#### Compare the percentage of boys and girls that spend more than zero but less than 1 hour/day on Facebook."
   ]
  },
  {
   "cell_type": "code",
   "execution_count": 25,
   "metadata": {},
   "outputs": [
    {
     "name": "stdout",
     "output_type": "stream",
     "text": [
      "38.0\n",
      "20.0\n"
     ]
    }
   ],
   "source": [
    "# Your answer here \n",
    "Boys_percent = (3 + 9 + 6 + 1)/50\n",
    "Girls_percent = (2 + 3 + 4 + 1)/50\n",
    "print(Boys_percent * 100)\n",
    "print(Girls_percent * 100)\n"
   ]
  },
  {
   "cell_type": "markdown",
   "metadata": {},
   "source": [
    "#### Find the bin where the median of the boys' data set lies."
   ]
  },
  {
   "cell_type": "code",
   "execution_count": 11,
   "metadata": {},
   "outputs": [],
   "source": [
    "# Your answer here \n",
    "# if not using 10 boys that didn't use facebook, it's in the 1-1.25 hr bin "
   ]
  },
  {
   "cell_type": "markdown",
   "metadata": {},
   "source": [
    "#### In terms of Facebook usage times based on given data, what can you conclude about usage habits of boys and girls?"
   ]
  },
  {
   "cell_type": "code",
   "execution_count": 26,
   "metadata": {},
   "outputs": [],
   "source": [
    "# Your answer here \n",
    "#Girls have a wider range of usage times, and girls tending to spend more time on Facebook (looks like the median and mean are higher than for boys)"
   ]
  },
  {
   "cell_type": "code",
   "execution_count": null,
   "metadata": {},
   "outputs": [],
   "source": []
  }
 ],
 "metadata": {
  "kernelspec": {
   "display_name": "Python 3",
   "language": "python",
   "name": "python3"
  },
  "language_info": {
   "codemirror_mode": {
    "name": "ipython",
    "version": 3
   },
   "file_extension": ".py",
   "mimetype": "text/x-python",
   "name": "python",
   "nbconvert_exporter": "python",
   "pygments_lexer": "ipython3",
   "version": "3.6.6"
  }
 },
 "nbformat": 4,
 "nbformat_minor": 2
}
